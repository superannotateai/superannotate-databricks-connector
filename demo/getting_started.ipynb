{
 "cells": [
  {
   "attachments": {},
   "cell_type": "markdown",
   "metadata": {
    "application/vnd.databricks.v1+cell": {
     "cellMetadata": {
      "byteLimit": 2048000,
      "rowLimit": 10000
     },
     "inputWidgets": {},
     "nuid": "876ec534-791a-450a-ab1d-9496177bd774",
     "showTitle": false,
     "title": ""
    }
   },
   "source": [
    "<img src=\"https://sa-assets-for-databricks.s3.amazonaws.com/SA+Black+Wide.png\"  width=\"32%\" height=\"30%\">\n",
    "<img src=\"https://sa-assets-for-databricks.s3.amazonaws.com/hero.gif\"  width=\"100%\" height=\"100%\">"
   ]
  },
  {
   "attachments": {},
   "cell_type": "markdown",
   "metadata": {
    "application/vnd.databricks.v1+cell": {
     "cellMetadata": {
      "byteLimit": 2048000,
      "rowLimit": 10000
     },
     "inputWidgets": {},
     "nuid": "0a4a0816-42a4-4439-b17a-6687fde700fb",
     "showTitle": false,
     "title": ""
    }
   },
   "source": [
    "<p style=\"font-family: DM Sans; color: #333;\">\n",
    "<b>🎉 Welcome to SuperAnnotate! 🎉</b><br/>\n",
    "We're absolutely delighted that you've chosen us to support your data labeling journey! SuperAnnotate is your go-to solution for a top-notch annotation tool, handling a wide array of data types, such as image, video, text, LiDAR, audio, and more. With SuperAnnotate, you'll be able to:\n",
    "<br/>\n",
    "<br/>\n",
    "<ul>\n",
    "  <li>🚀 Accelerate annotation while maintaining quality</li>\n",
    "  <li>🤝 Collaborate with stakeholders for improved annotation accuracy</li>\n",
    "  <li>🤖 Automate and streamline your annotation process</li>\n",
    "  <li>✨ And so much more!</li>\n",
    "</ul>\n",
    "<br/>\n",
    "Let us help you kick off your first labeling project! Together, we'll harness the full potential of SuperData for your Machine Learning projects.\n",
    "</p>"
   ]
  },
  {
   "attachments": {},
   "cell_type": "markdown",
   "metadata": {
    "application/vnd.databricks.v1+cell": {
     "cellMetadata": {
      "byteLimit": 2048000,
      "rowLimit": 10000
     },
     "inputWidgets": {},
     "nuid": "a96a24ab-350a-424d-b060-444343758fec",
     "showTitle": false,
     "title": ""
    }
   },
   "source": [
    "<p style=\"font-family: DM Sans; color: #333;\">\n",
    "<h3>🚀 SuperAnnotate SDK: Your All-In-One Solution 🚀</h3>\n",
    "The SuperAnnotate SDK empowers you to manage every aspect of your project, from uploading annotations to calculating consensus scores, and much more. Our Python SDK is readily accessible on <a href=\"https://pypi.org/project/superannotate/\">PyPI</a>. Installing the SDK is a breeze - simply use the command provided in the next cell. To learn more about our SDK, have a look through the resources below.\n",
    "<br/>\n",
    "<br/>\n",
    "<ul>\n",
    "  <li>📚 <a href=\"https://doc.superannotate.com/\">In-Depth Documentation</a></li>\n",
    "  <li>🔍 <a href=\"https://superannotate.readthedocs.io/en/stable/api_reference/index.html\">Extensive API Reference</a></li>\n",
    "</ul>\n",
    "</p>"
   ]
  },
  {
   "cell_type": "code",
   "execution_count": null,
   "metadata": {
    "application/vnd.databricks.v1+cell": {
     "cellMetadata": {
      "byteLimit": 2048000,
      "rowLimit": 10000
     },
     "inputWidgets": {},
     "nuid": "17b22171-e61f-41d9-9a34-f4cc5dcb245c",
     "showTitle": false,
     "title": ""
    }
   },
   "outputs": [],
   "source": [
    "!pip install superannotate\n",
    "!pip install superannotate_databricks_connector"
   ]
  },
  {
   "attachments": {},
   "cell_type": "markdown",
   "metadata": {
    "application/vnd.databricks.v1+cell": {
     "cellMetadata": {
      "byteLimit": 2048000,
      "rowLimit": 10000
     },
     "inputWidgets": {},
     "nuid": "0b200482-8019-4c63-8957-761cda860090",
     "showTitle": false,
     "title": ""
    }
   },
   "source": [
    "<p style=\"font-family: DM Sans; color: #333;\">\n",
    "<h3>🔑 Authentication 🔑</h3>\n",
    "To authorize the SDK within a team scope, create an SAClient instance using a token. Generating this token is easy from your SuperAnnotate team. Once you have your token, you're ready to run the code in the cell below!\n",
    "<br/>\n",
    "<br/>\n",
    "Follow these simple steps to create a token:\n",
    "<ul>\n",
    "  <li>1. Log in to your SuperAnnotate account.</li>\n",
    "  <li>2. Head over to your team settings.</li>\n",
    "  <li>3. Choose \"Details\" and click \"Generate\".</li>\n",
    "</ul>\n",
    "We highly recommend using <a href=\"https://docs.databricks.com/security/secrets/index.html\">Databricks Secrets</a> to manage your token securely.\n",
    "<br>\n",
    "<br>\n",
    "<img src=\"https://sa-assets-for-databricks.s3.amazonaws.com/Authenticate.gif\" width=\"50%\" height=\"auto\">\n",
    "</p>"
   ]
  },
  {
   "cell_type": "code",
   "execution_count": null,
   "metadata": {
    "application/vnd.databricks.v1+cell": {
     "cellMetadata": {
      "byteLimit": 2048000,
      "rowLimit": 10000
     },
     "inputWidgets": {},
     "nuid": "2dee6137-1816-403d-a0f0-7fc964e1d021",
     "showTitle": false,
     "title": ""
    }
   },
   "outputs": [],
   "source": [
    "from superannotate import SAClient\n",
    "\n",
    "# Get token from Databricks Secret Scope\n",
    "token = dbutils.secrets.get(scope=\"superannotate\", key=\"sa_token\")\n",
    "\n",
    "# Authenticate with SuperAnnotate\n",
    "sa = SAClient(token=token.strip())\n",
    "\n",
    "# Verify Connection\n",
    "sa.get_team_metadata()['name']"
   ]
  },
  {
   "attachments": {},
   "cell_type": "markdown",
   "metadata": {
    "application/vnd.databricks.v1+cell": {
     "cellMetadata": {
      "byteLimit": 2048000,
      "rowLimit": 10000
     },
     "inputWidgets": {},
     "nuid": "52c8cad4-d654-44ee-bb05-06fb1f48d302",
     "showTitle": false,
     "title": ""
    }
   },
   "source": [
    "<p style=\"font-family: DM Sans; color: #333;\">\n",
    "<h3>📁 Create a Project 📁</h3>\n",
    "SuperAnnotate provides versatile editors for a diverse range of use cases. You have the option to create a project through our SDK or directly on our platform. This flexibility allows you to choose the method that best suits your workflow.\n",
    "<br/>\n",
    "<br/>\n",
    "In the code below we are going to create an image project, to learn more about the features available for different use cases, check out our <a href=\"https://doc.superannotate.com/docs/create-a-project\">step-by-step guide on creating a project</a>.\n",
    "<br/>\n",
    "<br/>\n",
    "<img src=\"https://sa-assets-for-databricks.s3.amazonaws.com/Overview.gif\" width=\"50%\" height=\"auto\">\n",
    "</p>"
   ]
  },
  {
   "cell_type": "code",
   "execution_count": null,
   "metadata": {
    "application/vnd.databricks.v1+cell": {
     "cellMetadata": {
      "byteLimit": 2048000,
      "rowLimit": 10000
     },
     "inputWidgets": {},
     "nuid": "cd7b45b4-4898-4edf-9122-4ce540751a07",
     "showTitle": false,
     "title": ""
    }
   },
   "outputs": [],
   "source": [
    "# Define Constants\n",
    "PROJECT_NAME = \"My Demo Project\"\n",
    "PROJECT_TYPE = \"Vector\"\n",
    "PROJECT_DESCRIPTION = \"My First SuperAnnotate Project\"\n",
    "\n",
    "# Create project\n",
    "sa.create_project(project_name = PROJECT_NAME\n",
    "                  , project_description = PROJECT_DESCRIPTION\n",
    "                  , project_type = PROJECT_TYPE)"
   ]
  },
  {
   "attachments": {},
   "cell_type": "markdown",
   "metadata": {
    "application/vnd.databricks.v1+cell": {
     "cellMetadata": {
      "byteLimit": 2048000,
      "rowLimit": 10000
     },
     "inputWidgets": {},
     "nuid": "3d1afe72-d595-4577-9e76-bc3f6b90ca64",
     "showTitle": false,
     "title": ""
    }
   },
   "source": [
    "<p style=\"font-family: DM Sans; color: #333;\">\n",
    "<h3>🎨 Create Your Classes 🎨</h3>\n",
    "SuperAnnotate allows you to create classes using either <a href=\"https://superannotate.readthedocs.io/en/stable/api_reference/api_annotation_class.html#superannotate.SAClient.create_annotation_class\">our SDK</a> or directly on the platform. Each class you create will have a name, a color, and can also include various attributes of different types to better describe the objects you're annotating.\n",
    "<br/>\n",
    "<br/>\n",
    "This flexibility ensures that you can customize your annotation classes to suit the specific requirements of your project.\n",
    "</p>"
   ]
  },
  {
   "cell_type": "code",
   "execution_count": null,
   "metadata": {
    "application/vnd.databricks.v1+cell": {
     "cellMetadata": {
      "byteLimit": 2048000,
      "rowLimit": 10000
     },
     "inputWidgets": {},
     "nuid": "bfca2bc3-cd95-48f8-938a-c5f519318b93",
     "showTitle": false,
     "title": ""
    }
   },
   "outputs": [],
   "source": [
    "# Define an attribute, Color, where you can choose one of the values Red, White, Blue\n",
    "attributes_list = [\n",
    "    {\n",
    "        \"group_type\": \"radio\",\n",
    "        \"name\": \"Color\",\n",
    "        \"attributes\": [\n",
    "           {\n",
    "               \"name\": \"Red\"\n",
    "           },\n",
    "           {\n",
    "               \"name\": \"White\"\n",
    "           },\n",
    "           {\n",
    "               \"name\": \"Blue\"\n",
    "           }\n",
    "       ],\n",
    "       \"default_value\": \"Red\"\n",
    "   }\n",
    "]\n",
    "\n",
    "# Create the annotation class\n",
    "sa.create_annotation_class(project=PROJECT_NAME,\n",
    "                name = \"My first Class\", \n",
    "                color =\"#FF5B72\",\n",
    "                attribute_groups=attributes_list,\n",
    "                class_type='object')"
   ]
  },
  {
   "attachments": {},
   "cell_type": "markdown",
   "metadata": {
    "application/vnd.databricks.v1+cell": {
     "cellMetadata": {
      "byteLimit": 2048000,
      "rowLimit": 10000
     },
     "inputWidgets": {},
     "nuid": "068c5871-31dd-4de4-9da2-44694ce4cee8",
     "showTitle": false,
     "title": ""
    }
   },
   "source": [
    "<p style=\"font-family: DM Sans; color: #333;\">\n",
    "<h2>Uploading Data</h2>\n",
    "<h3>🔒 Encrypted Data Storage 🔒</h3>\n",
    "SuperAnnotate enables you to upload data to our encrypted storage through the UI, CLI, or Python SDK. Any data or model created using SuperAnnotate's encrypted storage is solely owned by its creator. SuperAnnotate is committed to never using or sharing any datasets or models created by our customers.\n",
    "<h3>🏠 On-Premise Data & Integrations with AWS, GCP, Azure, and More 🌐</h3>\n",
    "With SuperAnnotate, you have the option to keep your data on-premise, providing greater control and privacy as no sensitive information is shared with third parties. Our platform can be connected to any data source, allowing multiple collaborators to create accurate annotations quickly and efficiently. For added security, you can whitelist IP addresses to further protect your dataset.\n",
    "<a href=\"https://doc.superannotate.com/docs/data-protection\">🔒 Read more about how to keep your data safe here</a>\n",
    "\n",
    "<h3>🍇 Working with the Grape Images Dataset 🍇</h3>\n",
    "In this demo, we have prepared a dataset of grape images along with a CSV file containing the URLs to these images and their names. You'll learn how to attach the URLs and names to your SuperAnnotate project, allowing the platform to render the images in your browser. It's important to note that the images will not be stored on the SuperAnnotate platform. Instead, they will remain in the separate S3 bucket at all times 🔒, ensuring that your data stays in your designated storage.\n",
    "This method of linking image URLs to your project allows for easy access to your data without compromising storage location or privacy.\n",
    "\n",
    "</p>"
   ]
  },
  {
   "cell_type": "code",
   "execution_count": null,
   "metadata": {
    "application/vnd.databricks.v1+cell": {
     "cellMetadata": {
      "byteLimit": 2048000,
      "rowLimit": 10000
     },
     "inputWidgets": {},
     "nuid": "ee6a01bd-9174-45c5-9188-1db41e1059ff",
     "showTitle": false,
     "title": ""
    }
   },
   "outputs": [],
   "source": [
    "# Read image urls and names from s3\n",
    "df = spark.read.format(\"csv\").option(\"header\",\"true\")\\\n",
    "    .load(\"s3://sa-assets-for-databricks/dataset/grape_dataset.csv\")\n",
    "\n",
    "# Attach to SuperAnnotate Project\n",
    "result = sa.attach_items(project=PROJECT_NAME\n",
    "                ,attachments=[row.asDict() for row in df.collect()]\n",
    "                ,annotation_status=\"NotStarted\")"
   ]
  },
  {
   "attachments": {},
   "cell_type": "markdown",
   "metadata": {
    "application/vnd.databricks.v1+cell": {
     "cellMetadata": {
      "byteLimit": 2048000,
      "rowLimit": 10000
     },
     "inputWidgets": {},
     "nuid": "9ee95f8d-b324-4198-9c4f-a1b0205899c5",
     "showTitle": false,
     "title": ""
    }
   },
   "source": [
    "<p style=\"font-family: DM Sans; color: #333;\">\n",
    "<h3>🌟 Explore the SuperAnnotate Platform 🌟</h3>\n",
    "It's time to dive into the SuperAnnotate platform! Perform annotations, manage projects, and run quality assurance to ensure that your data labeling process is efficient and accurate. Once you've experienced the full potential of SuperAnnotate, you'll be well-equipped to handle any annotation challenge.\n",
    "<br>\n",
    "<br>\n",
    "<img src=\"https://sa-assets-for-databricks.s3.amazonaws.com/overview.gif\" width=\"50%\" height=\"auto\">"
   ]
  },
  {
   "attachments": {},
   "cell_type": "markdown",
   "metadata": {
    "application/vnd.databricks.v1+cell": {
     "cellMetadata": {},
     "inputWidgets": {},
     "nuid": "eeb780b1-79f0-4140-9139-ae285843d735",
     "showTitle": false,
     "title": ""
    }
   },
   "source": [
    "<p style=\"font-family: DM Sans; color: #333;\">\n",
    "<h3>🎨 Getting Started with Annotations 🎨</h3>\n",
    "To begin annotating in the SuperAnnotate platform, follow these simple steps:\n",
    "Open the image you'd like to annotate.\n",
    "Draw bounding boxes around objects of interest or segment the image using polygons for more precise annotations.\n",
    "Once you're satisfied with your annotations, mark the image as completed.\n",
    "Get hands-on experience with our intuitive annotation tools, and watch your projects come to life!\n",
    "\n",
    "<br>\n",
    "<br>\n",
    "<img src=\"https://sa-assets-for-databricks.s3.amazonaws.com/how_to_annotate.gif\" width=\"50%\" height=\"auto\">\n",
    "</p>"
   ]
  },
  {
   "attachments": {},
   "cell_type": "markdown",
   "metadata": {
    "application/vnd.databricks.v1+cell": {
     "cellMetadata": {},
     "inputWidgets": {},
     "nuid": "6082360b-8255-4a57-9e4f-8b2ea4b3a51c",
     "showTitle": false,
     "title": ""
    }
   },
   "source": [
    "<p style=\"font-family: DM Sans; color: #333;\">\n",
    "<h3>🔍 Quality Assurance for Better Data 🔍</h3>\n",
    "Quality assurance (QA) plays a critical role in ensuring data quality and, consequently, model accuracy. In the world of data labeling, consistent and precise annotations are vital for training robust machine learning models. SuperAnnotate offers a comprehensive QA process to help you achieve the highest possible data quality.\n",
    "<br>\n",
    "<br>\n",
    "With SuperAnnotate, you have the ability to:\n",
    "\n",
    "<br>\n",
    "<br>\n",
    "<ul>\n",
    "<li>Approve or disapprove instances based on their quality and adherence to guidelines.</li>\n",
    "<li>Leave comments on instances where additional information or clarification is necessary.</li>\n",
    "</ul>\n",
    "By incorporating quality assurance into your annotation workflow, you can maintain a high level of data quality, leading to more accurate and reliable machine learning models.\n",
    "\n",
    "<br>\n",
    "<br>\n",
    "<img src=\"https://sa-assets-for-databricks.s3.amazonaws.com/QA.gif\" width=\"50%\" height=\"auto\">\n",
    "</p>"
   ]
  },
  {
   "attachments": {},
   "cell_type": "markdown",
   "metadata": {
    "application/vnd.databricks.v1+cell": {
     "cellMetadata": {
      "byteLimit": 2048000,
      "rowLimit": 10000
     },
     "inputWidgets": {},
     "nuid": "45565ea9-b715-49a4-88df-b6ef1687ec9e",
     "showTitle": false,
     "title": ""
    }
   },
   "source": [
    "<p style=\"font-family: DM Sans; color: #333;\">\n",
    "<h3>📥 Export Labels Back to Databricks 📥</h3>\n",
    "Once you've finished labeling your data in SuperAnnotate, it's time to export the labels back to Databricks. While there are a few steps involved in importing the annotated data and setting up the schema and tables, the process is straightforward, ensuring your newly annotated data is readily available for further analysis, model training, and evaluation.\n",
    "<br/>\n",
    "<br/>\n",
    "In the following cells, we'll walk you through each step of the process:\n",
    "<ol>\n",
    "  <li>Import the annotated data from your SuperAnnotate project.</li>\n",
    "  <li>Set up a schema for the imported data.</li>\n",
    "  <li>Create a Delta table to receive and store your annotations.</li>\n",
    "</ol>\n",
    "By following these steps, you'll establish a more efficient data labeling workflow that seamlessly integrates with your Databricks environment.\n",
    "</p>"
   ]
  },
  {
   "cell_type": "code",
   "execution_count": null,
   "metadata": {
    "application/vnd.databricks.v1+cell": {
     "cellMetadata": {
      "byteLimit": 2048000,
      "rowLimit": 10000
     },
     "inputWidgets": {},
     "nuid": "1f029129-c50e-4d78-a9d4-37a4a3de0fd1",
     "showTitle": false,
     "title": ""
    }
   },
   "outputs": [],
   "source": [
    "# Extract data from Superannotate\n",
    "from superannotate_databricks_connector.vector import get_vector_dataframe\n",
    "data = sa.get_annotations(\"My Demo Project\")\n",
    "df = get_vector_dataframe(data, spark)"
   ]
  },
  {
   "cell_type": "code",
   "execution_count": null,
   "metadata": {
    "application/vnd.databricks.v1+cell": {
     "cellMetadata": {
      "byteLimit": 2048000,
      "rowLimit": 10000
     },
     "inputWidgets": {},
     "nuid": "16b257e5-40a9-49a8-bd78-5070024a5427",
     "showTitle": false,
     "title": ""
    }
   },
   "outputs": [],
   "source": [
    "display(df)"
   ]
  },
  {
   "attachments": {},
   "cell_type": "markdown",
   "metadata": {
    "application/vnd.databricks.v1+cell": {
     "cellMetadata": {},
     "inputWidgets": {},
     "nuid": "c2106920-a3c4-4c01-bdf3-e068bbb18eb1",
     "showTitle": false,
     "title": ""
    }
   },
   "source": [
    "<p style=\"font-family: DM Sans; color: #333;\">\n",
    "<h3>🎉 Thank You for Trying Out SuperAnnotate! 🎉</h3>\n",
    "We hope you enjoyed exploring the various features and capabilities of SuperAnnotate. Our aim is to provide you with the most advanced and user-friendly annotation platform to streamline your data labeling process, improve data quality, and ultimately enhance your machine learning models.\n",
    "Thank you for giving SuperAnnotate a try! We're always here to support you and help you achieve success in your data labeling and machine learning projects. If you have any questions, feedback, or suggestions, please don't hesitate to reach out to our team.\n",
    "\n",
    "Happy annotating! 🚀\n",
    "\n",
    "\n",
    "\n",
    "</p>"
   ]
  },
  {
   "attachments": {},
   "cell_type": "markdown",
   "metadata": {
    "application/vnd.databricks.v1+cell": {
     "cellMetadata": {},
     "inputWidgets": {},
     "nuid": "59a40f36-e49c-45af-962a-ac680abbbd85",
     "showTitle": false,
     "title": ""
    }
   },
   "source": [
    "<img src=\"https://sa-assets-for-databricks.s3.amazonaws.com/hero.png\" width=\"100%\" height=\"auto\">"
   ]
  }
 ],
 "metadata": {
  "application/vnd.databricks.v1+notebook": {
   "dashboards": [],
   "language": "python",
   "notebookMetadata": {
    "mostRecentlyExecutedCommandWithImplicitDF": {
     "commandId": -1,
     "dataframes": [
      "_sqldf"
     ]
    },
    "pythonIndentUnit": 4
   },
   "notebookName": "getting_started",
   "notebookOrigID": 3043274281150200,
   "widgets": {}
  },
  "language_info": {
   "name": "python"
  }
 },
 "nbformat": 4,
 "nbformat_minor": 0
}
